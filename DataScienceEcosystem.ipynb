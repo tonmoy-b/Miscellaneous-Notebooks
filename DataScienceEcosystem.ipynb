{
 "cells": [
  {
   "cell_type": "markdown",
   "id": "427744c7-5c38-46bf-8d23-091c2057ddba",
   "metadata": {},
   "source": [
    "<H1>Data Science Tools and Ecosystem</H1>"
   ]
  },
  {
   "cell_type": "markdown",
   "id": "9ecbd864-b897-480b-aa4c-a0f926b9fe9b",
   "metadata": {},
   "source": [
    "In this Notebook, Data Science tools and ecosystem are summarized."
   ]
  },
  {
   "cell_type": "markdown",
   "id": "a7d3d89f-7647-43f8-b4cb-203193699e9b",
   "metadata": {},
   "source": [
    "<B>Objectives:</B>\n",
    "* List popular Programming Languages used by Data Scientists\n",
    "* List popular libraries used in Data Science\n",
    "* List popular Data Science Tools"
   ]
  },
  {
   "cell_type": "markdown",
   "id": "20c8386d-040d-4d83-8946-ce057a675cb1",
   "metadata": {},
   "source": [
    "Some of the popular programming languages that Data Scientists use are :\n",
    "1. Python\n",
    "2. Scala\n",
    "3. SQL\n",
    "4. R\n",
    "5. Rust"
   ]
  },
  {
   "cell_type": "markdown",
   "id": "7b86ebf9-0b66-4c1c-8f5d-6dfacf7754c8",
   "metadata": {},
   "source": [
    "Some of the commonly used libraries in Data Science are:\n",
    "1. Scikit-Learn\n",
    "2. Tensorflow\n",
    "3. PyTorch\n",
    "4. Qiskit\n",
    "5. PennyLane\n",
    "6. Matplotlib\n",
    "7. Seaborn\n",
    "   "
   ]
  },
  {
   "cell_type": "markdown",
   "id": "46390c3e-5ce3-4655-8b30-fbb329d15e40",
   "metadata": {},
   "source": [
    "\n",
    "\n",
    "| Data Science Tools | \n",
    "| -------------|\n",
    "| JupyterLabs | \n",
    "| RStudio | \n",
    "| GoogleCollab | "
   ]
  },
  {
   "cell_type": "markdown",
   "id": "c81d3ae8-4ab7-4714-8599-6f2383253e31",
   "metadata": {},
   "source": [
    "<H3>Below are a few examples of evaluating arithmetic expressions in Python.</H3>"
   ]
  },
  {
   "cell_type": "code",
   "execution_count": 2,
   "id": "f3c142e9-b9fc-4f7c-96c4-e109c66f8eb1",
   "metadata": {},
   "outputs": [
    {
     "data": {
      "text/plain": [
       "17"
      ]
     },
     "execution_count": 2,
     "metadata": {},
     "output_type": "execute_result"
    }
   ],
   "source": [
    "#this is a simple example of evaluating mathematical expressions in python\n",
    "x = (3*4)+5\n",
    "x"
   ]
  },
  {
   "cell_type": "code",
   "execution_count": 5,
   "id": "5f66127e-7379-4200-981f-42025ea0b1c2",
   "metadata": {},
   "outputs": [
    {
     "name": "stdout",
     "output_type": "stream",
     "text": [
      "There are 3.33 hours in 200 minutes\n"
     ]
    }
   ],
   "source": [
    "# This will convert 200 minutes to hours by diving by 60\n",
    "mins = 200\n",
    "min_per_hour = 60\n",
    "print(f'There are { mins/min_per_hour:.2f} hours in {mins} minutes')"
   ]
  },
  {
   "cell_type": "markdown",
   "id": "e408e420-9004-4658-8ea0-a56aac97efb1",
   "metadata": {},
   "source": [
    "<H2>Author:</H2>\n",
    "   Tonmoy T. Bhattacharya"
   ]
  },
  {
   "cell_type": "code",
   "execution_count": null,
   "id": "92e9f891-aebc-4f98-979f-21f680e3e39b",
   "metadata": {},
   "outputs": [],
   "source": []
  }
 ],
 "metadata": {
  "kernelspec": {
   "display_name": "Python 3 (ipykernel)",
   "language": "python",
   "name": "python3"
  },
  "language_info": {
   "codemirror_mode": {
    "name": "ipython",
    "version": 3
   },
   "file_extension": ".py",
   "mimetype": "text/x-python",
   "name": "python",
   "nbconvert_exporter": "python",
   "pygments_lexer": "ipython3",
   "version": "3.12.5"
  }
 },
 "nbformat": 4,
 "nbformat_minor": 5
}
